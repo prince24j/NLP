{
  "nbformat": 4,
  "nbformat_minor": 0,
  "metadata": {
    "colab": {
      "provenance": []
    },
    "kernelspec": {
      "name": "python3",
      "display_name": "Python 3"
    },
    "language_info": {
      "name": "python"
    }
  },
  "cells": [
    {
      "cell_type": "markdown",
      "source": [
        "read_responses function: Reads the file containing interview responses.\n",
        "file_path: The path to the text file containing the responses.\n",
        "split('\\n\\n'): Splits the content of the file into individual responses. Each response is separated by a double newline (\\n\\n)."
      ],
      "metadata": {
        "id": "ZXN0t_WeDjil"
      }
    },
    {
      "cell_type": "code",
      "execution_count": 2,
      "metadata": {
        "id": "cb7Dr-P06WvT"
      },
      "outputs": [],
      "source": [
        "def read_responses(file_path):\n",
        "    with open(file_path, 'r') as file:\n",
        "        responses = file.read().split('\\n\\n')\n",
        "    return responses\n"
      ]
    },
    {
      "cell_type": "markdown",
      "source": [
        "TextBlob: A simple library for processing textual data. It provides easy-to-use APIs for sentiment analysis, among other NLP tasks.\n",
        "\n",
        "\n",
        "analyze_sentiment function: Analyzes the sentiment of a response.\n",
        "TextBlob(response): Creates a TextBlob object from the response text.\n",
        "blob.sentiment.polarity: Computes the sentiment polarity of the text. The polarity is a float value between -1.0 (negative) and 1.0 (positive).\n",
        "Sentiment classification:\n",
        "Positive if the polarity is greater than 0.\n",
        "Negative if the polarity is less than 0.\n",
        "Neutral if the polarity is 0.\n",
        "\n"
      ],
      "metadata": {
        "id": "vfPnH2taDs3Q"
      }
    },
    {
      "cell_type": "code",
      "source": [
        "from textblob import TextBlob\n",
        "\n",
        "def analyze_sentiment(response):\n",
        "    blob = TextBlob(response)\n",
        "    sentiment = blob.sentiment.polarity\n",
        "    if sentiment > 0:\n",
        "        return 'Positive'\n",
        "    elif sentiment < 0:\n",
        "        return 'Negative'\n",
        "    else:\n",
        "        return 'Neutral'\n"
      ],
      "metadata": {
        "id": "7jf27bEbQllL"
      },
      "execution_count": 3,
      "outputs": []
    },
    {
      "cell_type": "markdown",
      "source": [
        "spaCy: An advanced NLP library in Python. It's used here for key phrase extraction.\n",
        "spacy.load(\"en_core_web_sm\"): This loads a small English language model provided by spaCy. This model is used to process the text and extract key phrases."
      ],
      "metadata": {
        "id": "_QwZG3-mD_4t"
      }
    },
    {
      "cell_type": "code",
      "source": [
        "import spacy\n",
        "\n",
        "nlp = spacy.load(\"en_core_web_sm\")\n",
        "\n",
        "def extract_key_phrases(response):\n",
        "    doc = nlp(response)\n",
        "    key_phrases = [chunk.text for chunk in doc.noun_chunks]\n",
        "    return key_phrases\n"
      ],
      "metadata": {
        "id": "1mUI5DT0Qlhr"
      },
      "execution_count": 4,
      "outputs": []
    },
    {
      "cell_type": "markdown",
      "source": [
        "assess_quality function: Assesses the overall quality of a response based on its sentiment and key phrases.\n",
        "Good: If the sentiment is positive and there are key phrases.\n",
        "Poor: If the sentiment is negative or there are no key phrases.\n",
        "Average: If the sentiment is neutral and there are key phrases."
      ],
      "metadata": {
        "id": "5neKG2qgED9I"
      }
    },
    {
      "cell_type": "code",
      "source": [
        "def assess_quality(sentiment, key_phrases):\n",
        "    if sentiment == 'Positive' and key_phrases:\n",
        "        return 'Good'\n",
        "    elif sentiment == 'Negative' or not key_phrases:\n",
        "        return 'Poor'\n",
        "    else:\n",
        "        return 'Average'\n"
      ],
      "metadata": {
        "id": "cbHNdVGoQley"
      },
      "execution_count": 5,
      "outputs": []
    },
    {
      "cell_type": "markdown",
      "source": [
        "main function: Orchestrates the reading, analysis, and output of the interview responses.\n",
        "read_responses(file_path): Reads the responses from the specified file.\n",
        "for i, response in enumerate(responses): Iterates over each response.\n",
        "analyze_sentiment(response): Analyzes the sentiment of the response.\n",
        "extract_key_phrases(response): Extracts key phrases from the response.\n",
        "assess_quality(sentiment, key_phrases): Assesses the overall quality of the response.\n",
        "print statements: Outputs the analysis results for each response.\n",
        "\n",
        "Running the Script\n",
        "When you run the script:\n",
        "\n",
        "The main function is called with the file path 'transcribed_responses.txt'.\n",
        "The script reads the responses from the file.\n",
        "For each response, it performs sentiment analysis, key phrase extraction, and quality assessment.\n",
        "The results for each response are printed to the console.\n",
        "This comprehensive process ensures that each interview response is thoroughly analyzed and assessed for quality based on its sentiment and key phrases."
      ],
      "metadata": {
        "id": "pQKpH0e_EKxt"
      }
    },
    {
      "cell_type": "code",
      "source": [
        "def main(file_path):\n",
        "    responses = read_responses(file_path)\n",
        "    for i, response in enumerate(responses):\n",
        "        sentiment = analyze_sentiment(response)\n",
        "        key_phrases = extract_key_phrases(response)\n",
        "        quality = assess_quality(sentiment, key_phrases)\n",
        "        print(f\"Response {i+1}:\")\n",
        "        print(f\"Sentiment: {sentiment}\")\n",
        "        print(f\"Key Phrases: {', '.join(key_phrases)}\")\n",
        "        print(f\"Overall Quality: {quality}\\n\")\n",
        "\n",
        "if __name__ == \"__main__\":\n",
        "    main('transcribed_responses.txt')\n"
      ],
      "metadata": {
        "colab": {
          "base_uri": "https://localhost:8080/"
        },
        "id": "EYMlVHrEQlcJ",
        "outputId": "9b7b3524-5d42-4688-8fac-85abc8a70f2b"
      },
      "execution_count": 6,
      "outputs": [
        {
          "output_type": "stream",
          "name": "stdout",
          "text": [
            "Response 1:\n",
            "Sentiment: Positive\n",
            "Key Phrases: I, multiple projects, success, effectively managing teams, timely delivery, My experience, project management, me, the importance, communication, collaboration\n",
            "Overall Quality: Good\n",
            "\n",
            "Response 2:\n",
            "Sentiment: Positive\n",
            "Key Phrases: my last role, we, significant challenges, tight deadlines, I, the team, these obstacles, a quality product, We, positive feedback, the client\n",
            "Overall Quality: Good\n",
            "\n",
            "Response 3:\n",
            "Sentiment: Positive\n",
            "Key Phrases: I, software development projects, agile methodology, My skills, debugging, testing, I, new technologies\n",
            "Overall Quality: Good\n",
            "\n",
            "Response 4:\n",
            "Sentiment: Negative\n",
            "Key Phrases: some difficulties, meeting deadlines, my previous job, The client feedback, we, numerous revisions\n",
            "Overall Quality: Poor\n",
            "\n",
            "Response 5:\n",
            "Sentiment: Positive\n",
            "Key Phrases: my internship, I, my data analysis skills, I, Python, SQL, large datasets, insights, This experience, my technical abilities\n",
            "Overall Quality: Good\n",
            "\n",
            "Response 6:\n",
            "Sentiment: Positive\n",
            "Key Phrases: \n",
            "I, multiple projects, success, effectively managing teams, timely delivery, My experience, project management, me, the importance, communication, collaboration\n",
            "Overall Quality: Good\n",
            "\n",
            "Response 7:\n",
            "Sentiment: Positive\n",
            "Key Phrases: my last role, we, significant challenges, tight deadlines, I, the team, these obstacles, a quality product, We, positive feedback, the client\n",
            "Overall Quality: Good\n",
            "\n",
            "Response 8:\n",
            "Sentiment: Positive\n",
            "Key Phrases: I, software development projects, agile methodology, My skills, debugging, testing, I, new technologies\n",
            "Overall Quality: Good\n",
            "\n",
            "Response 9:\n",
            "Sentiment: Negative\n",
            "Key Phrases: some difficulties, meeting deadlines, my previous job, The client feedback, we, numerous revisions\n",
            "Overall Quality: Poor\n",
            "\n",
            "Response 10:\n",
            "Sentiment: Positive\n",
            "Key Phrases: my internship, I, my data analysis skills, I, Python, SQL, large datasets, insights, This experience, my technical abilities\n",
            "Overall Quality: Good\n",
            "\n",
            "Response 11:\n",
            "Sentiment: Positive\n",
            "Key Phrases: My role, a marketing manager, strategies, brand awareness, engagement, I, a team, that, successful campaigns, a 20% increase, sales\n",
            "Overall Quality: Good\n",
            "\n",
            "Response 12:\n",
            "Sentiment: Positive\n",
            "Key Phrases: I, a strong background, customer service, my last position, I, a support team, a new ticketing system, that, 30%\n",
            "Overall Quality: Good\n",
            "\n",
            "Response 13:\n",
            "Sentiment: Neutral\n",
            "Key Phrases: a graphic designer, I, various projects, branding, advertising, web design, My creativity, attention, detail, clients, their marketing goals\n",
            "Overall Quality: Average\n",
            "\n",
            "Response 14:\n",
            "Sentiment: Positive\n",
            "Key Phrases: My previous job, sales, excellent communication, negotiation skills, I, my sales targets, strong relationships, clients\n",
            "Overall Quality: Good\n",
            "\n",
            "Response 15:\n",
            "Sentiment: Positive\n",
            "Key Phrases: my recent role, I, financial analysis, reporting, I, models, revenue, expenses, which, the company, informed decisions\n",
            "Overall Quality: Good\n",
            "\n"
          ]
        }
      ]
    },
    {
      "cell_type": "code",
      "source": [],
      "metadata": {
        "id": "zLK4e_e7QlZR"
      },
      "execution_count": 6,
      "outputs": []
    },
    {
      "cell_type": "code",
      "source": [],
      "metadata": {
        "id": "SVWLWCEmQlVp"
      },
      "execution_count": 6,
      "outputs": []
    },
    {
      "cell_type": "code",
      "source": [],
      "metadata": {
        "id": "e5C6obsxQlBC"
      },
      "execution_count": 6,
      "outputs": []
    }
  ]
}